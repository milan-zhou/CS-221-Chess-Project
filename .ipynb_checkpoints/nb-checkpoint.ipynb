{
 "cells": [
  {
   "cell_type": "code",
   "execution_count": null,
   "metadata": {
    "collapsed": true
   },
   "outputs": [],
   "source": [
    "import sys\n",
    "sys.path.append('python-chess')\n",
    "import chess\n",
    "import chess.uci\n",
    "import random\n",
    "import time\n",
    "import cProfile\n",
    "import numpy as np\n",
    "sys.path.append('players')\n",
    "import player\n",
    "import evaluate\n",
    "import game"
   ]
  },
  {
   "cell_type": "code",
   "execution_count": null,
   "metadata": {
    "collapsed": true
   },
   "outputs": [],
   "source": [
    "def play(state, p1, p2, timeLimit, verbose = False):\n",
    "    while True:\n",
    "        if verbose:\n",
    "            print()\n",
    "            print(state)\n",
    "            print()\n",
    "        \n",
    "        result = game.gameOver(state)\n",
    "        if (result != \"*\"):\n",
    "            return result\n",
    "\n",
    "        whiteMove = p1.getMove(state, timeLimit)\n",
    "        print(whiteMove, p1.nodes)\n",
    "        state.push(whiteMove)\n",
    "        \n",
    "        if verbose:\n",
    "            print()\n",
    "            print(state)\n",
    "            print()\n",
    "        \n",
    "        result = game.gameOver(state)\n",
    "        if (result != \"*\"):\n",
    "            return result\n",
    "\n",
    "        blackMove = p2.getMove(state, timeLimit)\n",
    "\n",
    "        state.push(blackMove)\n",
    "        \n",
    "def evaluatePlayers(p1, p2, n, timeLimit, verbose=False):\n",
    "    state = chess.Board()\n",
    "    white = 0\n",
    "    black = 0\n",
    "    for i in range(n):\n",
    "        result = play(state, p1 , p2, 10, verbose)\n",
    "        if result == \"1-0\":\n",
    "            white += 1\n",
    "        elif result == \"0-1\":\n",
    "            black += 1\n",
    "        else:\n",
    "            white += .5\n",
    "            black += .5\n",
    "        state.reset()\n",
    "    print(white,black)"
   ]
  },
  {
   "cell_type": "code",
   "execution_count": null,
   "metadata": {
    "collapsed": true
   },
   "outputs": [],
   "source": [
    "import alphabeta\n",
    "p1 = alphabeta.alphabetaPlayer(evaluate.simpleEvaluate, True)\n",
    "p2 = player.randomPlayer(evaluate.simpleEvaluate, False)\n",
    "evaluatePlayers(p1,p2, 1, 10, True)"
   ]
  },
  {
   "cell_type": "code",
   "execution_count": null,
   "metadata": {
    "collapsed": true
   },
   "outputs": [],
   "source": [
    "import mtd\n",
    "p1 = mtd.mtdPlayer(evaluate.simpleEvaluate, True)\n",
    "p2 = player.randomPlayer(evaluate.simpleEvaluate, False)\n",
    "\n",
    "evaluatePlayers(p1,p2, 1, 10, True)"
   ]
  },
  {
   "cell_type": "code",
   "execution_count": 194,
   "metadata": {},
   "outputs": [],
   "source": [
    "import sys\n",
    "sys.path.append('python-chess')\n",
    "import chess\n",
    "state = chess.Board(fen='rnbqkbnr/ppp1p1pp/4p3/8/4P3/PbP1P1K1/P1P1P2P/RNBQKBNR w KQkq - 0 0')\n",
    "\n",
    "\n",
    "def getNeighborFiles(file):\n",
    "    if file == chess.BB_FILES[0]:\n",
    "        nFile = file << 1\n",
    "    elif file == chess.BB_FILES[7]:\n",
    "        nFile = file >> 1\n",
    "    else:\n",
    "        nFile = (file << 1) | (file >> 1)\n",
    "    return nFile\n",
    "        \n",
    "def evalPawns(state, role):\n",
    "    print(state)\n",
    "    wPawns = state.pawns & state.occupied_co[True]\n",
    "    bPawns = state.pawns & state.occupied_co[False]\n",
    "    \n",
    "    wDoubled = wIsolated = wBlocked = 0\n",
    "    bDoubled = bIsolated = bBlocked = 0\n",
    "    for from_square in chess.scan_reversed(wPawns):\n",
    "        file = chess.BB_FILES[chess.square_file(from_square)]\n",
    "        \n",
    "        wPawnsOnFile = file & wPawns\n",
    "        if (wPawnsOnFile & (wPawnsOnFile-1)):\n",
    "            wDoubled +=1\n",
    "        if getNeighborFiles(file) & wPawns == 0:\n",
    "            wIsolated += 1\n",
    "        if not any(chess.scan_reversed(chess.BB_PAWN_ATTACKS[True][from_square] & state.occupied_co[False])) and state.occupied & chess.BB_SQUARES[from_square + 8]:\n",
    "            wBlocked +=1\n",
    "        \n",
    "    for from_square in chess.scan_reversed(bPawns):\n",
    "        file = chess.BB_FILES[chess.square_file(from_square)]\n",
    "        bPawnsOnFile = file & bPawns\n",
    "        if(bPawnsOnFile & (bPawnsOnFile-1)):\n",
    "            bDoubled +=1\n",
    "        if getNeighborFiles(file) & bPawns == 0:\n",
    "            bIsolated += 1\n",
    "            \n",
    "        if not any(chess.scan_reversed(chess.BB_PAWN_ATTACKS[False][from_square] & state.occupied_co[True])) and state.occupied & chess.BB_SQUARES[from_square - 8]:\n",
    "            bBlocked +=1\n",
    "            \n",
    "    score = bDoubled + bIsolated + bBlocked - wDoubled - wIsolated - wBlocked\n",
    "    if (not role):\n",
    "        score = -score\n",
    "    return score\n",
    "    \n",
    "    "
   ]
  },
  {
   "cell_type": "code",
   "execution_count": 195,
   "metadata": {},
   "outputs": [
    {
     "name": "stdout",
     "output_type": "stream",
     "text": [
      "r n b q k b n r\n",
      "p p p . p . p p\n",
      ". . . . p . . .\n",
      ". . . . . . . .\n",
      ". . . . P . . .\n",
      "P b P . P . K .\n",
      "P . P . P . . P\n",
      "R N B Q K B N R\n",
      "7 2\n",
      "8 2\n",
      "2 1\n"
     ]
    }
   ],
   "source": [
    "evalPawns(state, True)"
   ]
  },
  {
   "cell_type": "code",
   "execution_count": null,
   "metadata": {
    "collapsed": true
   },
   "outputs": [],
   "source": []
  },
  {
   "cell_type": "code",
   "execution_count": null,
   "metadata": {
    "collapsed": true
   },
   "outputs": [],
   "source": []
  },
  {
   "cell_type": "code",
   "execution_count": null,
   "metadata": {
    "collapsed": true
   },
   "outputs": [],
   "source": []
  },
  {
   "cell_type": "code",
   "execution_count": null,
   "metadata": {
    "collapsed": true
   },
   "outputs": [],
   "source": []
  }
 ],
 "metadata": {
  "kernelspec": {
   "display_name": "Python 3",
   "language": "python",
   "name": "python3"
  },
  "language_info": {
   "codemirror_mode": {
    "name": "ipython",
    "version": 3
   },
   "file_extension": ".py",
   "mimetype": "text/x-python",
   "name": "python",
   "nbconvert_exporter": "python",
   "pygments_lexer": "ipython3",
   "version": "3.6.3"
  }
 },
 "nbformat": 4,
 "nbformat_minor": 2
}
